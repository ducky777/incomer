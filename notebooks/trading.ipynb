{
 "cells": [
  {
   "cell_type": "code",
   "execution_count": null,
   "metadata": {},
   "outputs": [],
   "source": [
    "%load_ext autoreload\n",
    "%autoreload 2\n",
    "\n",
    "from incomer.data import DataManager\n",
    "import pandas as pd\n",
    "\n",
    "filename = '../data/EURUSD60.csv'\n",
    "cycles = [5, 20, 50, 100, 200, 600, 1000]\n",
    "num_bars = 300\n",
    "forward_bars = 48\n",
    "lookbacks = 20\n",
    "valid_split = 0.8\n",
    "\n",
    "dm = DataManager(filename, cycles, num_bars=num_bars)\n",
    "\n",
    "xtrain, ytrain, xtest, ytest = dm.create_train_data(valid_split, lookbacks, forward_bars)\n",
    "\n",
    "print(xtrain.shape)\n",
    "print(xtest.shape)"
   ]
  },
  {
   "cell_type": "code",
   "execution_count": null,
   "metadata": {},
   "outputs": [],
   "source": [
    "len(dm.op)"
   ]
  },
  {
   "cell_type": "code",
   "execution_count": null,
   "metadata": {},
   "outputs": [],
   "source": [
    "from incomer.models.transformer import TradeTransformer\n",
    "\n",
    "trader = TradeTransformer()\n",
    "trader.build_model(\n",
    "    input_shape=xtrain.shape[1:],\n",
    "    head_size=128,\n",
    "    num_heads=16,\n",
    "    ff_dim=4,\n",
    "    num_transformer_blocks=16,\n",
    "    mlp_units=[128],\n",
    "    mlp_dropout=0.3,\n",
    "    dropout=0.3,\n",
    ")\n",
    "# trader.model.summary()"
   ]
  },
  {
   "cell_type": "code",
   "execution_count": null,
   "metadata": {},
   "outputs": [],
   "source": [
    "import numpy as np\n",
    "\n",
    "def replace_nan(x, value=-1):\n",
    "    nan = np.isnan(x)\n",
    "    x[nan] = -1\n",
    "    return x\n",
    "\n",
    "xtrain = replace_nan(xtrain, value=-1)\n",
    "xtest = replace_nan(xtest, value=-1)\n",
    "dm.body = replace_nan(dm.body, value=0)"
   ]
  },
  {
   "cell_type": "code",
   "execution_count": null,
   "metadata": {},
   "outputs": [],
   "source": [
    "trader.train(\n",
    "    xtrain,\n",
    "    ytrain,\n",
    "    xtest,\n",
    "    dm.body,\n",
    "    dm.op,\n",
    "    epochs=999999999,\n",
    "    batch_size=16,\n",
    "    valid_splits=0.8,\n",
    "    save_path=\"data/eurusd_h1/best\",\n",
    ")\n"
   ]
  }
 ],
 "metadata": {
  "kernelspec": {
   "display_name": "Python 3.7.6 ('hask')",
   "language": "python",
   "name": "python3"
  },
  "language_info": {
   "codemirror_mode": {
    "name": "ipython",
    "version": 3
   },
   "file_extension": ".py",
   "mimetype": "text/x-python",
   "name": "python",
   "nbconvert_exporter": "python",
   "pygments_lexer": "ipython3",
   "version": "3.7.6"
  },
  "orig_nbformat": 4,
  "vscode": {
   "interpreter": {
    "hash": "0c11e1a3665d556f20d3632e616a091f1c7ce9a65fd514abec3cc31c26736e67"
   }
  }
 },
 "nbformat": 4,
 "nbformat_minor": 2
}
