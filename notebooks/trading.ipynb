{
 "cells": [
  {
   "cell_type": "code",
   "execution_count": null,
   "metadata": {},
   "outputs": [],
   "source": [
    "%load_ext autoreload\n",
    "%autoreload 2\n",
    "\n",
    "from incomer.data import DataManager\n",
    "import pandas as pd\n",
    "\n",
    "filename = '../data/EURUSD60.csv'\n",
    "cycles = [5, 20, 50, 100, 200, 600, 1000]\n",
    "num_bars = 40120\n",
    "forward_bars = 48\n",
    "lookbacks = 120\n",
    "valid_split = 0.8\n",
    "\n",
    "dm = DataManager(filename, cycles, num_bars=num_bars)\n",
    "\n",
    "xtrain, ytrain, xtest, ytest = dm.create_train_data(valid_split, lookbacks, forward_bars)\n",
    "\n",
    "print(xtrain.shape)\n",
    "print(xtest.shape)"
   ]
  },
  {
   "cell_type": "code",
   "execution_count": null,
   "metadata": {},
   "outputs": [],
   "source": [
    "len(dm.op)"
   ]
  },
  {
   "cell_type": "code",
   "execution_count": null,
   "metadata": {},
   "outputs": [],
   "source": [
    "from incomer.models.transformer import TradeTransformer\n",
    "\n",
    "trader = TradeTransformer()\n",
    "trader.build_model(\n",
    "    input_shape=xtrain.shape[1:],\n",
    "    head_size=64,\n",
    "    num_heads=16,\n",
    "    ff_dim=4,\n",
    "    num_transformer_blocks=32,\n",
    "    mlp_units=[128, 64],\n",
    "    mlp_dropout=0.3,\n",
    "    dropout=0.3,\n",
    ")\n",
    "# trader.model.summary()"
   ]
  },
  {
   "cell_type": "code",
   "execution_count": null,
   "metadata": {},
   "outputs": [],
   "source": [
    "trader.train(\n",
    "    xtrain,\n",
    "    ytrain,\n",
    "    xtest,\n",
    "    epochs=999999999,\n",
    "    batch_size=16,\n",
    "    valid_splits=0.8,\n",
    "    save_path=\"data/eurusd_h1/best\",\n",
    ")\n"
   ]
  }
 ],
 "metadata": {
  "kernelspec": {
   "display_name": "Python 3.7.6 ('hask')",
   "language": "python",
   "name": "python3"
  },
  "language_info": {
   "codemirror_mode": {
    "name": "ipython",
    "version": 3
   },
   "file_extension": ".py",
   "mimetype": "text/x-python",
   "name": "python",
   "nbconvert_exporter": "python",
   "pygments_lexer": "ipython3",
   "version": "3.7.6"
  },
  "orig_nbformat": 4,
  "vscode": {
   "interpreter": {
    "hash": "0c11e1a3665d556f20d3632e616a091f1c7ce9a65fd514abec3cc31c26736e67"
   }
  }
 },
 "nbformat": 4,
 "nbformat_minor": 2
}
