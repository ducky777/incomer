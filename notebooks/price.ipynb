{
 "cells": [
  {
   "cell_type": "code",
   "execution_count": 13,
   "metadata": {},
   "outputs": [],
   "source": [
    "import pandas as pd\n",
    "import numpy as np\n",
    "\n",
    "\n",
    "class PriceEngine:\n",
    "    def add_data(self, file_path: str):\n",
    "        self.df = pd.read_csv(\n",
    "            file_path,\n",
    "            names=[\"Date\", \"Time\", \"Open\", \"High\", \"Low\", \"Close\", \"Volume\"],\n",
    "            header=0,\n",
    "        )\n",
    "\n",
    "        self.df = np.array(self.df)\n",
    "\n",
    "        (\n",
    "            self.date,\n",
    "            self.time,\n",
    "            self.op,\n",
    "            self.hi,\n",
    "            self.low,\n",
    "            self.cl,\n",
    "            self.vol,\n",
    "        ) = np.rollaxis(self.df, 1)\n",
    "\n",
    "\n",
    "class TradeEngine(PriceEngine):\n",
    "    def __init__(self):\n",
    "        super().__init__()\n",
    "\n",
    "        self.trades = []\n",
    "        self.balance = []\n",
    "        self.equity = []\n",
    "\n",
    "        self.idx = 0\n",
    "\n",
    "    def open(self, lots: float):\n",
    "        self.trades.append({\"price\": self.op[self.idx], \"lots\": lots})\n",
    "\n",
    "    def close(self):\n",
    "        self.trades = []\n",
    "\n",
    "\n",
    "te = PriceEngine()\n",
    "te.add_data(\"../data/EURUSD60.csv\")\n"
   ]
  },
  {
   "cell_type": "code",
   "execution_count": 14,
   "metadata": {},
   "outputs": [
    {
     "data": {
      "text/plain": [
       "array([0.5366, 0.5365, 0.5368, ..., 1.00043, 0.99883, 0.99754],\n",
       "      dtype=object)"
      ]
     },
     "execution_count": 14,
     "metadata": {},
     "output_type": "execute_result"
    }
   ],
   "source": [
    "te.op"
   ]
  }
 ],
 "metadata": {
  "kernelspec": {
   "display_name": "Python 3.7.6 ('hask')",
   "language": "python",
   "name": "python3"
  },
  "language_info": {
   "codemirror_mode": {
    "name": "ipython",
    "version": 3
   },
   "file_extension": ".py",
   "mimetype": "text/x-python",
   "name": "python",
   "nbconvert_exporter": "python",
   "pygments_lexer": "ipython3",
   "version": "3.7.6"
  },
  "orig_nbformat": 4,
  "vscode": {
   "interpreter": {
    "hash": "0c11e1a3665d556f20d3632e616a091f1c7ce9a65fd514abec3cc31c26736e67"
   }
  }
 },
 "nbformat": 4,
 "nbformat_minor": 2
}
